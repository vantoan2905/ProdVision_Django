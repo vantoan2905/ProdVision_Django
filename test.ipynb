{
 "cells": [
  {
   "cell_type": "code",
   "execution_count": 2,
   "id": "eeb22a12",
   "metadata": {},
   "outputs": [
    {
     "name": "stdout",
     "output_type": "stream",
     "text": [
      "|-- .env\n",
      "|-- .gitattributes\n",
      "|-- .gitignore\n",
      "|-- app_django\n",
      "    |-- asgi.py\n",
      "    |-- settings.py\n",
      "    |-- urls.py\n",
      "    |-- wsgi.py\n",
      "    |-- __init__.py\n",
      "    |-- __pycache__\n",
      "        |-- settings.cpython-310.pyc\n",
      "        |-- urls.cpython-310.pyc\n",
      "        |-- wsgi.cpython-310.pyc\n",
      "        |-- __init__.cpython-310.pyc\n",
      "|-- db.sqlite3\n",
      "|-- docker-compose.override.yml\n",
      "|-- docker-compose.yml\n",
      "|-- Dockerfile\n",
      "|-- manage.py\n",
      "|-- provision\n",
      "    |-- admin\n",
      "        |-- admin.py\n",
      "        |-- __init__.py\n",
      "        |-- __pycache__\n",
      "            |-- admin.cpython-310.pyc\n",
      "            |-- __init__.cpython-310.pyc\n",
      "    |-- apps.py\n",
      "    |-- migrations\n",
      "        |-- __init__.py\n",
      "        |-- __pycache__\n",
      "            |-- __init__.cpython-310.pyc\n",
      "    |-- models\n",
      "        |-- camera_models.py\n",
      "        |-- user_models.py\n",
      "        |-- __init__.py\n",
      "        |-- __pycache__\n",
      "            |-- camera_models.cpython-310.pyc\n",
      "            |-- user_models.cpython-310.pyc\n",
      "            |-- __init__.cpython-310.pyc\n",
      "    |-- serializers\n",
      "        |-- camera_serializers.py\n",
      "        |-- forms\n",
      "            |-- user_forms.py\n",
      "        |-- user_serializers.py\n",
      "    |-- tests.py\n",
      "    |-- urls\n",
      "        |-- camera_urls.py\n",
      "        |-- user_urls.py\n",
      "        |-- __init__.py\n",
      "        |-- __pycache__\n",
      "            |-- camera_urls.cpython-310.pyc\n",
      "            |-- user_urls.cpython-310.pyc\n",
      "            |-- __init__.cpython-310.pyc\n",
      "    |-- views\n",
      "        |-- camera_views.py\n",
      "        |-- user_views.py\n",
      "        |-- __int__.py\n",
      "        |-- __pycache__\n",
      "            |-- camera_views.cpython-310.pyc\n",
      "            |-- user_views.cpython-310.pyc\n",
      "    |-- __init__.py\n",
      "    |-- __pycache__\n",
      "        |-- apps.cpython-310.pyc\n",
      "        |-- __init__.cpython-310.pyc\n",
      "|-- README.MD\n",
      "|-- test.ipynb\n"
     ]
    }
   ],
   "source": [
    "import os\n",
    "\n",
    "def print_folder_structure(root_folder, indent=\"\"):\n",
    "    for item in os.listdir(root_folder):\n",
    "        path = os.path.join(root_folder, item)\n",
    "        print(indent + \"|-- \" + item)\n",
    "        if os.path.isdir(path):\n",
    "            print_folder_structure(path, indent + \"    \")\n",
    "\n",
    "# In ra cấu trúc thư mục hiện tại\n",
    "print_folder_structure(\".\")"
   ]
  }
 ],
 "metadata": {
  "kernelspec": {
   "display_name": "torch_gpu",
   "language": "python",
   "name": "python3"
  },
  "language_info": {
   "codemirror_mode": {
    "name": "ipython",
    "version": 3
   },
   "file_extension": ".py",
   "mimetype": "text/x-python",
   "name": "python",
   "nbconvert_exporter": "python",
   "pygments_lexer": "ipython3",
   "version": "3.10.18"
  }
 },
 "nbformat": 4,
 "nbformat_minor": 5
}
