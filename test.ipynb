{
 "cells": [
  {
   "cell_type": "code",
   "execution_count": 3,
   "id": "eeb22a12",
   "metadata": {},
   "outputs": [
    {
     "name": "stdout",
     "output_type": "stream",
     "text": [
      "|-- .env\n",
      "|-- .gitattributes\n",
      "|-- .gitignore\n",
      "|-- app_django\n",
      "    |-- asgi.py\n",
      "    |-- settings.py\n",
      "    |-- urls.py\n",
      "    |-- wsgi.py\n",
      "    |-- __init__.py\n",
      "|-- db.sqlite3\n",
      "|-- docker-compose.override.yml\n",
      "|-- docker-compose.yml\n",
      "|-- Dockerfile\n",
      "|-- manage.py\n",
      "|-- provision\n",
      "    |-- admin\n",
      "        |-- admin.py\n",
      "        |-- __init__.py\n",
      "    |-- apps.py\n",
      "    |-- management\n",
      "        |-- commands\n",
      "            |-- create_db.py\n",
      "            |-- __init__.py\n",
      "        |-- __init__.py\n",
      "    |-- migrations\n",
      "        |-- 0001_initial.py\n",
      "        |-- __init__.py\n",
      "    |-- models\n",
      "        |-- camera_info.py\n",
      "        |-- camera_models.py\n",
      "        |-- user_models.py\n",
      "        |-- __init__.py\n",
      "    |-- serializers\n",
      "        |-- camera_serializers.py\n",
      "        |-- forms\n",
      "            |-- user_forms.py\n",
      "        |-- user_serializers.py\n",
      "    |-- services\n",
      "        |-- camera\n",
      "        |-- models_pretrain\n",
      "        |-- user\n",
      "    |-- tests.py\n",
      "    |-- urls\n",
      "        |-- camera_urls.py\n",
      "        |-- model_urls.py\n",
      "        |-- user_urls.py\n",
      "        |-- __init__.py\n",
      "    |-- views\n",
      "        |-- camera_views.py\n",
      "        |-- model_views.py\n",
      "        |-- user_views.py\n",
      "        |-- __init__.py\n",
      "    |-- __init__.py\n",
      "|-- README.MD\n",
      "|-- test.ipynb\n"
     ]
    }
   ],
   "source": [
    "import os\n",
    "\n",
    "def print_folder_structure(root_folder, indent=\"\"):\n",
    "    for item in os.listdir(root_folder):\n",
    "        if item == \"__pycache__\":\n",
    "            continue\n",
    "        if item == \".git\":\n",
    "            continue\n",
    "        path = os.path.join(root_folder, item)\n",
    "        print(indent + \"|-- \" + item)\n",
    "        if os.path.isdir(path):\n",
    "            print_folder_structure(path, indent + \"    \")\n",
    "\n",
    "# In ra cấu trúc thư mục hiện tại\n",
    "print_folder_structure(r\"D:\\pcb_defect\\ProdVision_django\")"
   ]
  },
  {
   "cell_type": "code",
   "execution_count": null,
   "id": "a822ba3b",
   "metadata": {},
   "outputs": [],
   "source": []
  }
 ],
 "metadata": {
  "kernelspec": {
   "display_name": "torch_gpu",
   "language": "python",
   "name": "python3"
  },
  "language_info": {
   "codemirror_mode": {
    "name": "ipython",
    "version": 3
   },
   "file_extension": ".py",
   "mimetype": "text/x-python",
   "name": "python",
   "nbconvert_exporter": "python",
   "pygments_lexer": "ipython3",
   "version": "3.10.18"
  }
 },
 "nbformat": 4,
 "nbformat_minor": 5
}
