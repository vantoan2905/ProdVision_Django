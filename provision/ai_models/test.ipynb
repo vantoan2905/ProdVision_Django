{
 "cells": [
  {
   "cell_type": "markdown",
   "id": "a126f12b",
   "metadata": {},
   "source": [
    "# Test data loader\n"
   ]
  },
  {
   "cell_type": "code",
   "execution_count": 1,
   "id": "12e909b3",
   "metadata": {},
   "outputs": [
    {
     "name": "stdout",
     "output_type": "stream",
     "text": [
      "Loading training data...\n",
      "Loading validation data...\n",
      "Train loader shape: 276\n",
      "Val loader shape: 71\n",
      "Batch image shape: torch.Size([3, 2159, 2775])\n",
      "Batch target example: {'boxes': tensor([[1412.9995,  648.0001, 1462.9994,  699.0000],\n",
      "        [1712.0001,  540.0015, 1772.0012,  599.0005],\n",
      "        [2334.9988,  770.9994, 2412.9985,  837.9996],\n",
      "        [1182.0001, 1544.9988, 1243.0002, 1604.9995],\n",
      "        [ 561.0009, 1059.0002,  631.0003, 1120.0007],\n",
      "        [ 256.0007, 1448.9999,  315.0000, 1505.0000]]), 'labels': tensor([1, 1, 1, 1, 1, 1])}\n"
     ]
    }
   ],
   "source": [
    "import cv2\n",
    "from data_loader.load_yolo_data import  LoadYoloData\n",
    "import matplotlib.pyplot as plt\n",
    "from torch.utils.data import DataLoader\n",
    "def collate_fn(batch):\n",
    "    return tuple(zip(*batch))\n",
    "# ===============================\n",
    "# 1. Setup paths\n",
    "# ===============================\n",
    "from torch.utils.data import DataLoader\n",
    "\n",
    "train_images_path = r\"D:\\pcb_defect\\ProdVision_django\\PCB_DATASET_yolo_version\\images\\train\"\n",
    "train_labels_path = r\"D:\\pcb_defect\\ProdVision_django\\PCB_DATASET_yolo_version\\labels\\train\"\n",
    "val_images_path   = r\"D:\\pcb_defect\\ProdVision_django\\PCB_DATASET_yolo_version\\images\\val\"\n",
    "val_labels_path   = r\"D:\\pcb_defect\\ProdVision_django\\PCB_DATASET_yolo_version\\labels\\val\"\n",
    "yaml_path = r\"D:\\pcb_defect\\ProdVision_django\\PCB_DATASET_yolo_version\\data.yaml\"\n",
    "\n",
    "\n",
    "print(\"Loading training data...\")\n",
    "train_dataset = LoadYoloData(train_images_path, train_labels_path, yaml_path)\n",
    "\n",
    "print(\"Loading validation data...\")\n",
    "val_dataset = LoadYoloData(val_images_path, val_labels_path, yaml_path)\n",
    "\n",
    "\n",
    "\n",
    "\n",
    "# collate_fn cho object detection\n",
    "def collate_fn(batch):\n",
    "    return tuple(zip(*batch))\n",
    "\n",
    "train_loader = DataLoader(train_dataset, batch_size=2, shuffle=True, collate_fn=collate_fn)\n",
    "val_loader   = DataLoader(val_dataset, batch_size=2, shuffle=False, collate_fn=collate_fn)\n",
    "print(\"Train loader shape:\", len(train_loader))\n",
    "print(\"Val loader shape:\", len(val_loader))\n",
    "# Test load 1 batch\n",
    "images, targets = next(iter(train_loader))\n",
    "print(\"Batch image shape:\", images[0].shape)\n",
    "print(\"Batch target example:\", targets[0])\n"
   ]
  },
  {
   "cell_type": "markdown",
   "id": "ab883566",
   "metadata": {},
   "source": [
    "# Test Model"
   ]
  },
  {
   "cell_type": "code",
   "execution_count": 3,
   "id": "8efc9ca1",
   "metadata": {},
   "outputs": [
    {
     "name": "stderr",
     "output_type": "stream",
     "text": [
      "Downloading: \"https://download.pytorch.org/models/fasterrcnn_resnet50_fpn_coco-258fb6c6.pth\" to C:\\Users\\toanv/.cache\\torch\\hub\\checkpoints\\fasterrcnn_resnet50_fpn_coco-258fb6c6.pth\n",
      "100%|██████████| 160M/160M [00:08<00:00, 20.9MB/s] \n"
     ]
    }
   ],
   "source": [
    "from faster_R_CNN.model import FasterRCNNTrainer\n",
    "\n",
    "\n",
    "num_classes = 2  # background + object\n",
    "trainer = FasterRCNNTrainer(num_classes)"
   ]
  },
  {
   "cell_type": "code",
   "execution_count": null,
   "id": "dece8385",
   "metadata": {},
   "outputs": [
    {
     "data": {
      "text/plain": [
       "=========================================================================================================\n",
       "Layer (type:depth-idx)                                  Output Shape              Param #\n",
       "=========================================================================================================\n",
       "FasterRCNN                                              [100, 4]                  --\n",
       "├─GeneralizedRCNNTransform: 1-1                         [1, 3, 800, 800]          --\n",
       "├─BackboneWithFPN: 1-2                                  [1, 256, 13, 13]          --\n",
       "│    └─IntermediateLayerGetter: 2-1                     [1, 2048, 25, 25]         --\n",
       "│    │    └─Conv2d: 3-1                                 [1, 64, 400, 400]         (9,408)\n",
       "│    │    └─FrozenBatchNorm2d: 3-2                      [1, 64, 400, 400]         --\n",
       "│    │    └─ReLU: 3-3                                   [1, 64, 400, 400]         --\n",
       "│    │    └─MaxPool2d: 3-4                              [1, 64, 200, 200]         --\n",
       "│    │    └─Sequential: 3-5                             [1, 256, 200, 200]        (212,992)\n",
       "│    │    └─Sequential: 3-6                             [1, 512, 100, 100]        1,212,416\n",
       "│    │    └─Sequential: 3-7                             [1, 1024, 50, 50]         7,077,888\n",
       "│    │    └─Sequential: 3-8                             [1, 2048, 25, 25]         14,942,208\n",
       "│    └─FeaturePyramidNetwork: 2-2                       [1, 256, 13, 13]          --\n",
       "│    │    └─ModuleList: 3-15                            --                        (recursive)\n",
       "│    │    └─ModuleList: 3-16                            --                        (recursive)\n",
       "│    │    └─ModuleList: 3-15                            --                        (recursive)\n",
       "│    │    └─ModuleList: 3-16                            --                        (recursive)\n",
       "│    │    └─ModuleList: 3-15                            --                        (recursive)\n",
       "│    │    └─ModuleList: 3-16                            --                        (recursive)\n",
       "│    │    └─ModuleList: 3-15                            --                        (recursive)\n",
       "│    │    └─ModuleList: 3-16                            --                        (recursive)\n",
       "│    │    └─LastLevelMaxPool: 3-17                      [1, 256, 200, 200]        --\n",
       "├─RegionProposalNetwork: 1-3                            [1000, 4]                 --\n",
       "│    └─RPNHead: 2-3                                     [1, 3, 200, 200]          --\n",
       "│    │    └─Sequential: 3-18                            [1, 256, 200, 200]        590,080\n",
       "│    │    └─Conv2d: 3-19                                [1, 3, 200, 200]          771\n",
       "│    │    └─Conv2d: 3-20                                [1, 12, 200, 200]         3,084\n",
       "│    │    └─Sequential: 3-21                            [1, 256, 100, 100]        (recursive)\n",
       "│    │    └─Conv2d: 3-22                                [1, 3, 100, 100]          (recursive)\n",
       "│    │    └─Conv2d: 3-23                                [1, 12, 100, 100]         (recursive)\n",
       "│    │    └─Sequential: 3-24                            [1, 256, 50, 50]          (recursive)\n",
       "│    │    └─Conv2d: 3-25                                [1, 3, 50, 50]            (recursive)\n",
       "│    │    └─Conv2d: 3-26                                [1, 12, 50, 50]           (recursive)\n",
       "│    │    └─Sequential: 3-27                            [1, 256, 25, 25]          (recursive)\n",
       "│    │    └─Conv2d: 3-28                                [1, 3, 25, 25]            (recursive)\n",
       "│    │    └─Conv2d: 3-29                                [1, 12, 25, 25]           (recursive)\n",
       "│    │    └─Sequential: 3-30                            [1, 256, 13, 13]          (recursive)\n",
       "│    │    └─Conv2d: 3-31                                [1, 3, 13, 13]            (recursive)\n",
       "│    │    └─Conv2d: 3-32                                [1, 12, 13, 13]           (recursive)\n",
       "│    └─AnchorGenerator: 2-4                             [159882, 4]               --\n",
       "├─RoIHeads: 1-4                                         [100, 4]                  --\n",
       "│    └─MultiScaleRoIAlign: 2-5                          [1000, 256, 7, 7]         --\n",
       "│    └─TwoMLPHead: 2-6                                  [1000, 1024]              --\n",
       "│    │    └─Linear: 3-33                                [1000, 1024]              12,846,080\n",
       "│    │    └─Linear: 3-34                                [1000, 1024]              1,049,600\n",
       "│    └─FastRCNNPredictor: 2-7                           [1000, 2]                 --\n",
       "│    │    └─Linear: 3-35                                [1000, 2]                 2,050\n",
       "│    │    └─Linear: 3-36                                [1000, 8]                 8,200\n",
       "=========================================================================================================\n",
       "Total params: 41,299,161\n",
       "Trainable params: 41,076,761\n",
       "Non-trainable params: 222,400\n",
       "Total mult-adds (G): 133.97\n",
       "=========================================================================================================\n",
       "Input size (MB): 0.60\n",
       "Forward/backward pass size (MB): 1483.69\n",
       "Params size (MB): 165.20\n",
       "Estimated Total Size (MB): 1649.48\n",
       "========================================================================================================="
      ]
     },
     "execution_count": 9,
     "metadata": {},
     "output_type": "execute_result"
    }
   ],
   "source": [
    "from torchinfo import summary\n",
    "\n",
    "model = trainer.build_model(6)\n",
    "summary(model, input_size=(1, 3, 224, 224))\n"
   ]
  },
  {
   "cell_type": "code",
   "execution_count": null,
   "id": "3fba455e",
   "metadata": {},
   "outputs": [],
   "source": []
  }
 ],
 "metadata": {
  "kernelspec": {
   "display_name": "torch_gpu",
   "language": "python",
   "name": "python3"
  },
  "language_info": {
   "codemirror_mode": {
    "name": "ipython",
    "version": 3
   },
   "file_extension": ".py",
   "mimetype": "text/x-python",
   "name": "python",
   "nbconvert_exporter": "python",
   "pygments_lexer": "ipython3",
   "version": "3.10.18"
  }
 },
 "nbformat": 4,
 "nbformat_minor": 5
}
